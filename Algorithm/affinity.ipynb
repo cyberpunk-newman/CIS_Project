{
 "cells": [
  {
   "cell_type": "code",
   "execution_count": 1,
   "metadata": {},
   "outputs": [],
   "source": [
    "import numpy as np\n",
    "from sklearn.cluster import MeanShift,estimate_bandwidth\n",
    "from sklearn.cluster import AffinityPropagation\n",
    "from sklearn import metrics\n",
    "from sklearn.datasets import make_blobs\n",
    "\n",
    "from sklearn import preprocessing\n",
    "import pandas as pd"
   ]
  },
  {
   "cell_type": "code",
   "execution_count": 2,
   "metadata": {},
   "outputs": [
    {
     "name": "stdout",
     "output_type": "stream",
     "text": [
      "                                             Content  similarity  Useless\n",
      "0  @AlanDersh I’d believe an abused woman’s word ...    0.202623        0\n",
      "1  RT @drdavidsamadi: .@CNN, you need to explain ...    0.235064        0\n",
      "2  RT @KerrieNation: Stop romanticizing violent w...    0.235873        0\n",
      "3  RT @Slarothestoic: Hello, @barnardos Your ad i...    0.214735        0\n",
      "4  @realDonaldTrump @FoxNews They must not be rep...    0.213659        0\n"
     ]
    }
   ],
   "source": [
    "df = pd.read_excel('max_similarity_result.xlsx')\n",
    "print(df.head(5))"
   ]
  },
  {
   "cell_type": "code",
   "execution_count": 3,
   "metadata": {},
   "outputs": [],
   "source": [
    "org_df = pd.DataFrame.copy(df)"
   ]
  },
  {
   "cell_type": "code",
   "execution_count": 4,
   "metadata": {},
   "outputs": [
    {
     "name": "stdout",
     "output_type": "stream",
     "text": [
      "                                             Content  similarity  Useless\n",
      "0  @AlanDersh I’d believe an abused woman’s word ...    0.202623        0\n",
      "1  RT @drdavidsamadi: .@CNN, you need to explain ...    0.235064        0\n",
      "2  RT @KerrieNation: Stop romanticizing violent w...    0.235873        0\n",
      "3  RT @Slarothestoic: Hello, @barnardos Your ad i...    0.214735        0\n",
      "4  @realDonaldTrump @FoxNews They must not be rep...    0.213659        0\n"
     ]
    }
   ],
   "source": [
    "print(df.head())"
   ]
  },
  {
   "cell_type": "code",
   "execution_count": 5,
   "metadata": {},
   "outputs": [],
   "source": [
    "df.fillna(0, inplace=True)  # 把NaN替换为0"
   ]
  },
  {
   "cell_type": "code",
   "execution_count": 6,
   "metadata": {},
   "outputs": [],
   "source": [
    "# 把字符串映射为数字，例如{female:1, male:0}"
   ]
  },
  {
   "cell_type": "code",
   "execution_count": 7,
   "metadata": {},
   "outputs": [
    {
     "name": "stdout",
     "output_type": "stream",
     "text": [
      "Content {'RT @alamedamark: @DrDinD Listening to Trump got this poor kid killed.   https://t.co/62oHzKwBqB': 0, \"RT @The_SC_Podcast: If some how you've missed series 1 of The Sports Coaching Podcast you catch catch episodes 1 - 12 here 👉👉https://t.co/R \": 1, 'RT @DollarVigilante: “No society wants you to become wise: it is against the investment of all societies\" https://t.co/BCxiIbtQAP': 2, 'RT @Slarothestoic: Hello, @harvardmed Your ad is on the YouTube channel of Rebel News, which calls social distancing measures to fight the ': 3, 'RT @fisher_tx14: This is one of the things we should be talking about. https://t.co/emb2Hsdvzd': 4, 'RT @hannahhalfpint_: If everywhere is a risk why are we opening places that are non essential and making it greater than it needs to be? Ec ': 5, 'RT @CorinneDinDin: If you’re driving in north London today, avoid Brent Cross and the A406. It’s a river... https://t.co/C0jnLAumGp': 6, 'RT @washingtonpost: Companies are hiring their own epidemiologists to help deal with the pandemic https://t.co/iLOhZeSewh': 7, 'RT @RedHourBen: Can we just skip to the Dancing With The Stars part? https://t.co/FKbItwAepZ': 8, 'RT @W7VOA: Reaction from a member of the New York congressional delegation: https://t.co/kINeV2xyEV': 9, 'RT @TheRickWilson: they don’t even hide it anymore. https://t.co/A0L35yhvn4': 10, '@piersmorgan I hope u see this piers https://t.co/o1bkODBS9f': 11, 'RT @415holgate: Ghislaine Maxwell moved to New York for sex abuse charges https://t.co/ZMCtLBaCTT': 12, 'RT @propublica: 3/Help us report.   Pass along this questionnaire to anyone you know who works at one of these companies: https://t.co/DTbR ': 13, 'RT @jawja100: Join me in supporting Democratic Party of Georgia - Federal Account via @actblue https://t.co/0eLNgVbkqD': 14, 'RT @xavierkatana: This baboon is helping his dog friend get rid of bugs.   https://t.co/ocOUE9hokA': 15, '@realDonaldTrump @FoxNews They must not be reporting what you want to hear again.': 16, '@RoomPhilosophy @danielcallcut @GuyLongworth His view on the relationship between faith and experience in a religious setting?': 17, 'RT @Puppy_Crack: @thehill We know the answer https://t.co/YFbjzAt0ts': 18, \"RT @pudseypaul: Try to convince yourself it's anything else. https://t.co/nw27poNCJm\": 19, '@redrockcasino thanks guys you made the kids summer. https://t.co/M0U5h4hKsL': 20, 'RT @sarahcpr: How to mask https://t.co/Mm8IBTrNxd': 21, 'RT @samstein: Devin Nunes winery got a PPP loan   https://t.co/MoEDszDwUA': 22, 'RT @Jim_Jordan: We must protect the landmarks and memorials that celebrate our nation’s history. https://t.co/ccmtPinMJj': 23, 'RT @Cosmicflaming0: The only way to eat wings https://t.co/kuDj4d3JBy': 24, 'RT @SheffieldUnited: Class act.  A special moment between the Gaffer and Mourinho post-match 👏 https://t.co/0cMf8PKLAW': 25, 'RT @lhyde2017: Thank Ranger Dan who come along and cut up the large stump for us #Teamwork 😁 https://t.co/Nl0Ifv3o88': 26, \"Thunderstorms boiling up in the 'hood today. https://t.co/R5nfwgN8U1\": 27, 'RT @SteveRattner: Sometimes a picture is, indeed, worth a thousand words https://t.co/z6PGE4AxA1': 28, 'I refuse to wear a mask. I do not consent. https://t.co/Pw1xiNmPnO': 29, 'RT @TheRealMaddog58: Another sport bites the dust. https://t.co/cfCaiPxpTe': 30, 'RT @KerrieNation: Stop romanticizing violent white men. https://t.co/JNNoUYbamM': 31, 'RT @BubbaWallace: To the next generation and little ones following my foot steps..  #LoveWins https://t.co/tVaV3pkdLe': 32, 'Closed. Monday. The closing bell rings.   Biden 2020 https://t.co/Z7Eg63Q4tM': 33, 'RT @Hibbylad: Took these while out on the bike the day.. 🚵🏼\\u200d♂️ #Edinburgh https://t.co/tI2bBjWFsc': 34, 'RT @kmbc: Newspaper owner: Sorry for equating mask rule to Holocaust https://t.co/miMPIQWrR6': 35, 'RT @nulasuchet: The world’s laughing — and Britain’s the big joke   https://t.co/nLsLkUegm9': 36, 'RT @realDonaldTrump: China has caused great damage to the United States and the rest of the World!': 37, 'RT @RealJamesWoods: #DeBlasio’s New York. The cops don’t stop anymore. And frankly why should they? #DemocratCities  https://t.co/g9UEtAKZIU': 38, 'RT @MikkoAlanne: This new ad from @votevets is stunning. #BenedictDonald #TRE45ON https://t.co/2NVzkqaNQZ': 39, 'RT @TempusFugitWatc: Tempus Fugit: The Commando 10th Anniversary https://t.co/In9MJRnXQx': 40, 'RT @BerekumChelseaF: Watch Tette’s lovely header !  🙌🏾#Tetteh #Bibires 🔵⚪️🦅 https://t.co/PkJhJ8bK5K': 41, 'RT @DGHisham: Proud to be Malaysians to see another towering Malaysian stand on top of the world!! Pride of the nation. https://t.co/9ynTnJ ': 42, 'RT @Tim_Bousquet: McNeil: \"clearly some people coming in say they will be self-isolating but they aren\\'t.\"': 43, 'RT @grantstern: Quick!  Someone make this guy the new Governor of Florida.   https://t.co/mctAOAprBe': 44, 'RT @sazmeister88: you shameless fucking bastard @BorisJohnson https://t.co/unX38rMi7S': 45, 'RT @ChampainAguon: Guam sunsets never need a filter or edits. https://t.co/SXBWNaqidI': 46, 'RT @Slarothestoic: Hello, @barnardos Your ad is on the YouTube channel of Rebel News, which calls social distancing measures to fight the s ': 47, 'RT @BobMooreNews: Today’s reminder that wishful thinking isn’t a strategy. https://t.co/ClCcK8uZO0': 48, 'RT @RaoEhtishaam: He told that one day we make our own things.. There is a lot of potential in Pakistan, just we need to right use of it. ت ': 49, 'RT @notDcfcBoss: On this day 1937: Spam is first introduced into the market. https://t.co/SY7jmqA40S': 50, 'RT @AdamParkhomenko: Retweet to rattle Donald Trump https://t.co/Caj7iGh0cJ': 51, '@AlanDersh I’d believe an abused woman’s word over the lack of a tape any day': 52, '@mnsebourn @therealamygray @texasquire @BriscoeCain Still waiting for you to link the study to back up your point. https://t.co/98KDzCA5j6': 53, 'RT @MiaFarrow: Oversight sputters as Trump doles  out billions in coronavirus aid https://t.co/f9agjFMjoj': 54, '📣 New Podcast! \"Dj Proof Bushwick Radio 4th of July Mix Weekend\" on @Spreaker https://t.co/9lTanSLs3o': 55, 'RT @Tommyhen78: Princes Street rocking again this afternoon...#streetsareforpeople https://t.co/LEDT0r87Ad': 56, 'Niall what are your plans for this week?? https://t.co/jxvAbWg6vP': 57, 'RT @CailinasEirinn: Hey @AndrewScheer  Some video of you supporting the Yellow Vests. https://t.co/pxJdNyGrQI': 58, \"RT @TheRickWilson: No one should tweet this picture into @realDonaldTrump's timeline as a response to his @BubbaWallace tweet...that would \": 59, 'RT @scarletmonahan: Alan Self isolation Day 8 - Inside Out. #animation #animated https://t.co/AhzRUF2M1p #SocialDistancing #SelfIsolation # ': 60, 'RT @dynarski: Sports seem out for year at Harvard though they are not calling it yet https://t.co/yhxB1x0rTe': 61, 'RT @Channel4News: Read the full story on the Channel 4 News website: https://t.co/Eg4Wtc8tRA': 62, \"RT @JoeBiden: It didn't have to be this bad. But Donald Trump failed to do his job — and we're all paying the price. https://t.co/OXONhAWNqy\": 63, 'RT @Hot_Tea_sis3: please click the video #Barron #MiamiDade https://t.co/or6ksCsK9r': 64, 'RT @theAliceRoberts: Honestly, I just cannot work in these conditions. https://t.co/GB0BMirD0o': 65, '@marklevinshow #Twexit You may want to try   https://t.co/MogzrDUNPg': 66, 'RT @NYGovCuomo: Not knowing, not testing is not an answer.  It’s a rejection of science. https://t.co/FouVyojHnB': 67, 'RT @AngrierWHStaff: Biden should take him up on that cognitive challenge. https://t.co/tJaG8SnCkg': 68, 'RT @mhaleighw: this might be the funniest thing https://t.co/fniWXGqe38': 69, \"RT @Adamstoon1: This morning's @standardnews cartoon https://t.co/BTYEKHnkWF\": 70, 'RT @mathmania64: \\U0001f7e5 Wilton Precious Moments girl &amp; String of hearts garland chain Pink plastic handled Cookie Cutter PMI You have touched so ': 71, 'RT @guardian: Anger after Johnson appears to blame care homes for their high death toll https://t.co/7YHiLuKicV': 72, 'RT @KamalaHarris: The future of our courts is on the ballot in November. https://t.co/3S6rv92pom': 73, 'RT @Globalbiosec: Tracking #COVID19 through social media and sewage - when did the pandemic REALLY start? https://t.co/O9JvzvPyiC': 74, 'RT @corkandspider: #WhyTrumpMightQuit  The thrill is gone https://t.co/V2WEuBXTCH': 75, 'RT @BleacherReport: Cam putting the world on notice 😤 @brgridiron https://t.co/c5foPcWhzW': 76, 'RT @MadamZeti: Okay so arrest the cops who actually killed him now': 77, 'Just a reminder that Bob Ross was more of a badass than Trump or his shit kids will ever be. https://t.co/ImwKILn4iJ': 78, 'RT @Jordan_Sather_: Donald J. Trump is going to be the Disclosure President 🛸 👽': 79, '@realDonaldTrump why is the idiot saluting the flag hes not in uniform': 80, 'RT @soledadobrien: Here in America, we call that “lying” https://t.co/nWKpnBbOvZ': 81, 'RT @reemadamin: Manhattan BP still pushing internet companies to extend service through the summer. She and reps from 12 community boards h ': 82, \"RT @joehagansays: That drunk at the end of the bar?  Oh don't mind him, it's just the President. https://t.co/sACNFdVCXe\": 83, 'This is a cool video but the message is terrible https://t.co/ck78eUxeTg': 84, '@realDonaldTrump @DHSgov @foxandfriends @NYGovCuomo @NYCMayor You have nothing of substance to offer or address Racial Injustice https://t.co/Ee29aUeJV3': 85, 'RT @drdavidsamadi: .@CNN, you need to explain this. https://t.co/q7HrvSwhz6': 86, 'RT @thenation: Topple the Electoral College https://t.co/9dtb13gyRd': 87, 'RT @JoeBiden: We can’t afford four more years of Donald Trump. https://t.co/12yF31aLSz': 88, 'RT @KevinlyFather: @JoeBiden \"I think it\\'s working out very well.\" - Trump on 130k dead Americans. https://t.co/vVPNbdUqmv': 89, 'RT @DavidJHarrisJr: Why is no one talking about this?? https://t.co/hGzaJGREAj': 90, 'RT @DineshDSouza: Where are the mass protests for these innocent children???  https://t.co/Djk6QHWcK4': 91, 'RT @mwitch18: @thomaskaine5 #FOXNews = FAKE News https://t.co/HrxPP5to3H': 92, 'RT @RepMattGaetz: Black Lives Matter supports the deconstruction of the American family. https://t.co/zewUYrWjeh': 93, 'RT @megaholt: This.  I often tell people that there are fates worse than death.': 94, 'RT @SkyNews: Team GB sprinter calls for police commissioner to step down after stop and search https://t.co/EUR8XeS9x8': 95}\n"
     ]
    }
   ],
   "source": [
    "df_map = {}  # 保存映射\n",
    "cols = df.columns.values\n",
    "for col in cols:\n",
    "    if df[col].dtype != np.int64 and df[col].dtype != np.float64:\n",
    "        temp = {}\n",
    "        x = 0\n",
    "        for ele in set(df[col].values.tolist()):\n",
    "            if ele not in temp:\n",
    "                temp[ele] = x\n",
    "                x += 1\n",
    "\n",
    "        df_map[df[col].name] = temp\n",
    "        df[col] = list(map(lambda val: temp[val], df[col]))\n",
    "\n",
    "for key, value in df_map.items():\n",
    "   print(key,value)\n",
    "# print(df.head())"
   ]
  },
  {
   "cell_type": "code",
   "execution_count": 8,
   "metadata": {},
   "outputs": [],
   "source": [
    "# 由于是非监督学习，不使用label"
   ]
  },
  {
   "cell_type": "code",
   "execution_count": 9,
   "metadata": {},
   "outputs": [],
   "source": [
    "x = np.array(df.drop(['Useless'], 1).astype(float))"
   ]
  },
  {
   "cell_type": "code",
   "execution_count": 10,
   "metadata": {},
   "outputs": [],
   "source": [
    "# 将每一列特征标准化为标准正太分布，注意，标准化是针对每一列而言的"
   ]
  },
  {
   "cell_type": "code",
   "execution_count": 11,
   "metadata": {
    "scrolled": true
   },
   "outputs": [
    {
     "name": "stdout",
     "output_type": "stream",
     "text": [
      "Estimated number of clusters: 3\n",
      "{0: 0.0, 1: 0.0, 2: 0.0}\n"
     ]
    },
    {
     "name": "stderr",
     "output_type": "stream",
     "text": [
      "d:\\python3\\lib\\site-packages\\sklearn\\cluster\\_affinity_propagation.py:152: FutureWarning: 'random_state' has been introduced in 0.23. It will be set to None starting from 0.25 which means that results will differ at every function call. Set 'random_state' to None to silence this warning, or to 0 to keep the behavior of versions <0.23.\n",
      "  FutureWarning)\n",
      "d:\\python3\\lib\\site-packages\\pandas\\core\\indexing.py:671: SettingWithCopyWarning: \n",
      "A value is trying to be set on a copy of a slice from a DataFrame\n",
      "\n",
      "See the caveats in the documentation: https://pandas.pydata.org/pandas-docs/stable/user_guide/indexing.html#returning-a-view-versus-a-copy\n",
      "  self._setitem_with_indexer(indexer, value)\n"
     ]
    }
   ],
   "source": [
    "# Compute Affinity Propagation\n",
    "x = preprocessing.scale(x)\n",
    "\n",
    "clf = AffinityPropagation(preference=-50)\n",
    "clf.fit(x)\n",
    "cluster_centers_indices = clf.cluster_centers_indices_\n",
    "labels = clf.labels_\n",
    "\n",
    "n_clusters_ = len(cluster_centers_indices)\n",
    "\n",
    "print('Estimated number of clusters: %d' % n_clusters_)\n",
    "\n",
    "org_df['group'] = np.nan\n",
    "for i in range(len(x)):\n",
    "    org_df['group'].iloc[i] = labels[i]\n",
    "\n",
    "contents = {}\n",
    "for i in range(n_clusters_):\n",
    "    temp_df = org_df[org_df['group'] == float(i)]\n",
    "    content_cluster = temp_df[(temp_df['Useless'] == 1)]\n",
    "    content = 1.0 * len(content_cluster) / len(temp_df)\n",
    "    contents[i] = content\n",
    "print(contents)"
   ]
  },
  {
   "cell_type": "code",
   "execution_count": 12,
   "metadata": {},
   "outputs": [],
   "source": [
    "# MeanShift自动把数据分组\n",
    "# 你可以详细分析一下org_df, 看看这几组人的共同特点是什么\n",
    "# print(org_df[ org_df['group'] == 2 ])\n",
    "# print(org_df[ org_df['group'] == 2 ].describe())\n",
    "org_df.to_excel('1122334455667788.xls')"
   ]
  },
  {
   "cell_type": "code",
   "execution_count": null,
   "metadata": {},
   "outputs": [],
   "source": []
  },
  {
   "cell_type": "code",
   "execution_count": null,
   "metadata": {},
   "outputs": [],
   "source": []
  },
  {
   "cell_type": "code",
   "execution_count": null,
   "metadata": {},
   "outputs": [],
   "source": []
  }
 ],
 "metadata": {
  "kernelspec": {
   "display_name": "Python 3",
   "language": "python",
   "name": "python3"
  },
  "language_info": {
   "codemirror_mode": {
    "name": "ipython",
    "version": 3
   },
   "file_extension": ".py",
   "mimetype": "text/x-python",
   "name": "python",
   "nbconvert_exporter": "python",
   "pygments_lexer": "ipython3",
   "version": "3.7.4"
  }
 },
 "nbformat": 4,
 "nbformat_minor": 4
}
